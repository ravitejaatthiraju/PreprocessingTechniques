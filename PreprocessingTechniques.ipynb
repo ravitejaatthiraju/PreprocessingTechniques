{
  "nbformat": 4,
  "nbformat_minor": 0,
  "metadata": {
    "colab": {
      "provenance": [],
      "authorship_tag": "ABX9TyPNfzBq+HadvujuN7AlNssg",
      "include_colab_link": true
    },
    "kernelspec": {
      "name": "python3",
      "display_name": "Python 3"
    },
    "language_info": {
      "name": "python"
    }
  },
  "cells": [
    {
      "cell_type": "markdown",
      "metadata": {
        "id": "view-in-github",
        "colab_type": "text"
      },
      "source": [
        "<a href=\"https://colab.research.google.com/github/ravitejaatthiraju/PreprocessingTechniques/blob/main/PreprocessingTechniques.ipynb\" target=\"_parent\"><img src=\"https://colab.research.google.com/assets/colab-badge.svg\" alt=\"Open In Colab\"/></a>"
      ]
    },
    {
      "cell_type": "code",
      "execution_count": null,
      "metadata": {
        "id": "ncJVHf11gskv"
      },
      "outputs": [],
      "source": [
        "import pandas as pd\n",
        "from sklearn.feature_selection import SelectKBest, f_classif\n",
        "from sklearn.impute import SimpleImputer\n",
        "from sklearn.preprocessing import KBinsDiscretizer\n",
        "import numpy as np"
      ]
    },
    {
      "cell_type": "code",
      "source": [
        "def preprocess_data(data, target_column, k_best=5):\n",
        " # 1. Attribute Selection (using SelectKBest with ANOVA Fvalue)\n",
        " X = data.drop(target_column, axis=1)\n",
        " y = data[target_column]\n",
        " # Ensure target variable is numeric\n",
        " if not np.issubdtype(y.dtype, np.number):\n",
        "   y = pd.Categorical(y).codes\n",
        " selector = SelectKBest(f_classif, k=k_best)\n",
        " # Select top k features\n",
        " X_new = selector.fit_transform(X, y)\n",
        " selected_features = X.columns[selector.get_support()]\n",
        " X = pd.DataFrame(X_new, columns=selected_features)\n",
        " # 2. Handling Missing Values (using SimpleImputer with mean strategy)\n",
        " imputer = SimpleImputer(strategy='mean')\n",
        " # Replace with median or most_frequent if needed\n",
        " X=pd.DataFrame(imputer.fit_transform(X),columns=X.columns)\n",
        " # 3. Discretization (using KBinsDiscretizer with uniform strategy)\n",
        " discretizer = KBinsDiscretizer(n_bins=5, encode='ordinal',strategy='uniform')\n",
        " # Adjust n_bins\n",
        " try:\n",
        "   X=pd.DataFrame(discretizer.fit_transform(X),columns=X.columns)\n",
        " except ValueError as e:\n",
        "   print(f\"Discretization Error: {e}\")\n",
        "   return None\n",
        " # 4. Elimination of Outliers (using IQR method)\n",
        " for col in X.columns:\n",
        "   Q1 = X[col].quantile(0.25)\n",
        "   Q3 = X[col].quantile(0.75)\n",
        "   IQR = Q3 - Q1\n",
        "   lower_bound = Q1 - 1.5 * IQR\n",
        "   upper_bound = Q3 + 1.5 * IQR\n",
        "   X = X[(X[col] >= lower_bound) & (X[col] <=upper_bound)]\n",
        " # Align y with the filtered index\n",
        " y = y[X.index]\n",
        " # Combine features and target into a new DataFrame\n",
        " processed_data=pd.concat([X.reset_index(drop=True),y.reset_index(drop=True)], axis=1)\n",
        " return processed_data"
      ],
      "metadata": {
        "id": "CEkQhR_7gwwQ"
      },
      "execution_count": null,
      "outputs": []
    },
    {
      "cell_type": "code",
      "source": [
        " # Load the dataset\n",
        " data =pd.read_csv (\"/content/breast_cancer.csv\")\n",
        " # Preprocess the data\n",
        " preprocessed_data = preprocess_data(data, \"Class\")"
      ],
      "metadata": {
        "id": "rw7D-dptixFo"
      },
      "execution_count": null,
      "outputs": []
    },
    {
      "cell_type": "code",
      "source": [
        " # Assuming \"Class\" is the name of the target variable\n",
        " # Print some info\n",
        " if preprocessed_data is not None:\n",
        "  print(preprocessed_data.info())\n",
        "  print(preprocessed_data.head())\n",
        " else:\n",
        "  print(\"Preprocessing failed due to errors.\")"
      ],
      "metadata": {
        "colab": {
          "base_uri": "https://localhost:8080/"
        },
        "id": "WEsQxNc8jGhT",
        "outputId": "a7ed77d2-1517-4892-e487-6ee56f4f9ac8"
      },
      "execution_count": null,
      "outputs": [
        {
          "output_type": "stream",
          "name": "stdout",
          "text": [
            "<class 'pandas.core.frame.DataFrame'>\n",
            "RangeIndex: 569 entries, 0 to 568\n",
            "Data columns (total 6 columns):\n",
            " #   Column                    Non-Null Count  Dtype  \n",
            "---  ------                    --------------  -----  \n",
            " 0   Uniformity of Cell Size   569 non-null    float64\n",
            " 1   Uniformity of Cell Shape  569 non-null    float64\n",
            " 2   Bare Nuclei               569 non-null    float64\n",
            " 3   Bland Chromatin           569 non-null    float64\n",
            " 4   Normal Nucleoli           569 non-null    float64\n",
            " 5   Class                     569 non-null    int64  \n",
            "dtypes: float64(5), int64(1)\n",
            "memory usage: 26.8 KB\n",
            "None\n",
            "   Uniformity of Cell Size  Uniformity of Cell Shape  Bare Nuclei  \\\n",
            "0                      0.0                       0.0          0.0   \n",
            "1                      1.0                       1.0          4.0   \n",
            "2                      0.0                       0.0          0.0   \n",
            "3                      0.0                       0.0          0.0   \n",
            "4                      0.0                       0.0          4.0   \n",
            "\n",
            "   Bland Chromatin  Normal Nucleoli  Class  \n",
            "0              1.0              0.0      2  \n",
            "1              1.0              0.0      2  \n",
            "2              1.0              0.0      2  \n",
            "3              1.0              0.0      2  \n",
            "4              1.0              0.0      2  \n"
          ]
        }
      ]
    },
    {
      "cell_type": "code",
      "source": [],
      "metadata": {
        "id": "l6npTbW-yvem"
      },
      "execution_count": null,
      "outputs": []
    }
  ]
}